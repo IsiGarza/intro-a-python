{
 "cells": [
  {
   "cell_type": "code",
   "execution_count": null,
   "metadata": {},
   "outputs": [],
   "source": [
    "# a partir de ls siguiente lista contesta las preguntas y realiza las actividades.\n",
    "\n",
    "\n",
    "box_office = [[1, 'Avatar', '$2,787,965,087', 2009], \n",
    "              [2, 'Titanic', '$2,187,463,944', 1997],\n",
    "              [3, 'Star Wars: The Force Awakens', '$2,068,223,624', 2015],\n",
    "              [4, 'Avengers: Infinity War', '$2,046,669,485', 2018]]\n",
    "\n",
    "# agrega los registros del 5 al 12 a la lista a partir de la siguiente pagina https://en.wikipedia.org/wiki/List_of_highest-grossing_films usando los métodos que aprendiste en la clase\n",
    "\n",
    "# Usando python y asumiento que la lista está en orden: ¿Cuál es el 4 lugar?\n",
    "\n",
    "# Usando python ¿cuándo salió el séptimo lugar de la lista?\n",
    "\n",
    "# Quita el doceavo lugar de la lista y reemplázalo por tu película favorita\n",
    "\n",
    "# Quita una de los avengers y remplázala por desayuno en Tiffany's\n",
    "\n",
    "# Usando python ¿cuánto mide la lista?\n",
    "\n",
    "# Usando python, imprime la lista\n",
    "\n",
    "# Entrega este archivo con tu primer nombre y apellido .py, sin espacios ni acentos. por ejemplo aligonzalez.py"
   ]
  }
 ],
 "metadata": {
  "kernelspec": {
   "display_name": "Python 3",
   "language": "python",
   "name": "python3"
  },
  "language_info": {
   "codemirror_mode": {
    "name": "ipython",
    "version": 3
   },
   "file_extension": ".py",
   "mimetype": "text/x-python",
   "name": "python",
   "nbconvert_exporter": "python",
   "pygments_lexer": "ipython3",
   "version": "3.7.0"
  }
 },
 "nbformat": 4,
 "nbformat_minor": 2
}
